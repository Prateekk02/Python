{
 "cells": [
  {
   "cell_type": "code",
   "execution_count": 1,
   "id": "0eaf7b75-7554-4838-a11b-ffe70eace745",
   "metadata": {},
   "outputs": [],
   "source": [
    "import numpy as np"
   ]
  },
  {
   "cell_type": "code",
   "execution_count": 2,
   "id": "e8975024-02b7-4e26-8ca8-6ca1ce3eacde",
   "metadata": {},
   "outputs": [],
   "source": [
    "l = [1,2,3,4,5]"
   ]
  },
  {
   "cell_type": "code",
   "execution_count": 3,
   "id": "3be6a6c1-7706-4db1-a019-e3ff7bf4d62e",
   "metadata": {},
   "outputs": [],
   "source": [
    "ar = np.array(l)"
   ]
  },
  {
   "cell_type": "code",
   "execution_count": 4,
   "id": "c676a1d3-01e9-4606-a767-54d4e0d02603",
   "metadata": {},
   "outputs": [
    {
     "data": {
      "text/plain": [
       "array([1, 2, 3, 4, 5])"
      ]
     },
     "execution_count": 4,
     "metadata": {},
     "output_type": "execute_result"
    }
   ],
   "source": [
    "ar"
   ]
  },
  {
   "cell_type": "code",
   "execution_count": 5,
   "id": "11f7bf16-fe51-41d0-9037-610661ccb3ed",
   "metadata": {},
   "outputs": [
    {
     "data": {
      "text/plain": [
       "numpy.ndarray"
      ]
     },
     "execution_count": 5,
     "metadata": {},
     "output_type": "execute_result"
    }
   ],
   "source": [
    "type(ar)"
   ]
  },
  {
   "cell_type": "code",
   "execution_count": 6,
   "id": "a470e63e-a8ba-4b84-8ca8-b8d22b4df59e",
   "metadata": {},
   "outputs": [
    {
     "data": {
      "text/plain": [
       "array([[1, 2],\n",
       "       [3, 4]])"
      ]
     },
     "execution_count": 6,
     "metadata": {},
     "output_type": "execute_result"
    }
   ],
   "source": [
    "np.array([[1,2],[3,4]])"
   ]
  },
  {
   "cell_type": "code",
   "execution_count": 7,
   "id": "87ab6e43-6cdd-4108-abae-8920d7c33ad8",
   "metadata": {},
   "outputs": [
    {
     "data": {
      "text/plain": [
       "array([1, 2, 3, 4, 5])"
      ]
     },
     "execution_count": 7,
     "metadata": {},
     "output_type": "execute_result"
    }
   ],
   "source": [
    "np.asarray(l)"
   ]
  },
  {
   "cell_type": "code",
   "execution_count": 8,
   "id": "642dc6a9-2c11-472f-ac8a-6b0b935063c2",
   "metadata": {},
   "outputs": [
    {
     "data": {
      "text/plain": [
       "array([2, 3, 4])"
      ]
     },
     "execution_count": 8,
     "metadata": {},
     "output_type": "execute_result"
    }
   ],
   "source": [
    "a = [2,3,4]\n",
    "np.asanyarray(a)"
   ]
  },
  {
   "cell_type": "code",
   "execution_count": 9,
   "id": "d33a68c5-26c7-418a-b4b0-a0020ab536f8",
   "metadata": {},
   "outputs": [
    {
     "data": {
      "text/plain": [
       "matrix([[1, 2, 3, 4, 5]])"
      ]
     },
     "execution_count": 9,
     "metadata": {},
     "output_type": "execute_result"
    }
   ],
   "source": [
    "b = np.matrix(l)\n",
    "b"
   ]
  },
  {
   "cell_type": "code",
   "execution_count": 10,
   "id": "bf42de63-8a50-4cb7-824b-367ce293cffd",
   "metadata": {},
   "outputs": [
    {
     "data": {
      "text/plain": [
       "matrix([[1, 2, 3, 4, 5]])"
      ]
     },
     "execution_count": 10,
     "metadata": {},
     "output_type": "execute_result"
    }
   ],
   "source": [
    "np.asanyarray(b)"
   ]
  },
  {
   "cell_type": "markdown",
   "id": "42f6b3aa-8f25-484d-a44c-cbe084159a2d",
   "metadata": {},
   "source": [
    "- Matrix is already a type of array hence remains unchanged on applying np.asanyarray()"
   ]
  },
  {
   "cell_type": "code",
   "execution_count": 11,
   "id": "9f4ae553-f981-43b8-8480-3152764fda2a",
   "metadata": {},
   "outputs": [],
   "source": [
    "a = np.array(l)\n",
    "c = a"
   ]
  },
  {
   "cell_type": "code",
   "execution_count": 12,
   "id": "adef8e47-3ea4-49a9-a6ac-34640738fc2f",
   "metadata": {},
   "outputs": [
    {
     "data": {
      "text/plain": [
       "array([1, 2, 3, 4, 5])"
      ]
     },
     "execution_count": 12,
     "metadata": {},
     "output_type": "execute_result"
    }
   ],
   "source": [
    "a"
   ]
  },
  {
   "cell_type": "code",
   "execution_count": 13,
   "id": "c14e23ac-7e8e-4dbf-9bfc-9144c1c2e330",
   "metadata": {},
   "outputs": [
    {
     "data": {
      "text/plain": [
       "array([1, 2, 3, 4, 5])"
      ]
     },
     "execution_count": 13,
     "metadata": {},
     "output_type": "execute_result"
    }
   ],
   "source": [
    "c"
   ]
  },
  {
   "cell_type": "code",
   "execution_count": 14,
   "id": "2610663a-64a2-41a4-806a-bc05eaeab59f",
   "metadata": {},
   "outputs": [],
   "source": [
    "c[0] = 100"
   ]
  },
  {
   "cell_type": "code",
   "execution_count": 15,
   "id": "c1927a9d-5ca6-4a33-94cc-a088cffd2cc3",
   "metadata": {},
   "outputs": [
    {
     "data": {
      "text/plain": [
       "array([100,   2,   3,   4,   5])"
      ]
     },
     "execution_count": 15,
     "metadata": {},
     "output_type": "execute_result"
    }
   ],
   "source": [
    "c"
   ]
  },
  {
   "cell_type": "code",
   "execution_count": 16,
   "id": "7314432a-0276-42d6-b3b2-9f84ea2a1923",
   "metadata": {},
   "outputs": [
    {
     "data": {
      "text/plain": [
       "array([100,   2,   3,   4,   5])"
      ]
     },
     "execution_count": 16,
     "metadata": {},
     "output_type": "execute_result"
    }
   ],
   "source": [
    "a"
   ]
  },
  {
   "cell_type": "markdown",
   "id": "f72bf8d4-7dd4-4c6c-9335-a0866f2f49ed",
   "metadata": {},
   "source": [
    "- Here c and a points to the same array i.e shallow copy takes place"
   ]
  },
  {
   "cell_type": "code",
   "execution_count": 17,
   "id": "c26ba71c-bfec-4be5-86ed-b0957f1d6e03",
   "metadata": {},
   "outputs": [],
   "source": [
    "d = np.copy(a)"
   ]
  },
  {
   "cell_type": "code",
   "execution_count": 18,
   "id": "e78ed9a8-b4e7-49fb-bc53-73f93f155730",
   "metadata": {},
   "outputs": [
    {
     "data": {
      "text/plain": [
       "array([100,   2,   3,   4,   5])"
      ]
     },
     "execution_count": 18,
     "metadata": {},
     "output_type": "execute_result"
    }
   ],
   "source": [
    "d"
   ]
  },
  {
   "cell_type": "code",
   "execution_count": 19,
   "id": "419f1737-61ae-4062-9048-0a702639b0e4",
   "metadata": {},
   "outputs": [],
   "source": [
    "d[1] = 56"
   ]
  },
  {
   "cell_type": "code",
   "execution_count": 20,
   "id": "48a5c6a4-73bf-45dd-932a-09f0f166bd50",
   "metadata": {},
   "outputs": [
    {
     "data": {
      "text/plain": [
       "array([100,  56,   3,   4,   5])"
      ]
     },
     "execution_count": 20,
     "metadata": {},
     "output_type": "execute_result"
    }
   ],
   "source": [
    "d"
   ]
  },
  {
   "cell_type": "code",
   "execution_count": 21,
   "id": "96ae680c-8ada-4567-a073-b8e65d3cd5df",
   "metadata": {},
   "outputs": [
    {
     "data": {
      "text/plain": [
       "array([100,   2,   3,   4,   5])"
      ]
     },
     "execution_count": 21,
     "metadata": {},
     "output_type": "execute_result"
    }
   ],
   "source": [
    "a"
   ]
  },
  {
   "cell_type": "markdown",
   "id": "0fe7dc0c-33ba-4395-afb0-ccd225ac7bf7",
   "metadata": {},
   "source": [
    "- Here deep copy takes place among a and d."
   ]
  },
  {
   "cell_type": "code",
   "execution_count": 22,
   "id": "138164b5-eca4-4e18-8c32-a854603ecfe8",
   "metadata": {},
   "outputs": [
    {
     "data": {
      "text/plain": [
       "array([[ True, False, False],\n",
       "       [False,  True, False],\n",
       "       [False, False,  True]])"
      ]
     },
     "execution_count": 22,
     "metadata": {},
     "output_type": "execute_result"
    }
   ],
   "source": [
    "np.fromfunction(lambda i,j: i == j , (3,3))"
   ]
  },
  {
   "cell_type": "code",
   "execution_count": 23,
   "id": "3476a9f6-b583-4ff2-9dda-a9bdb3b01946",
   "metadata": {},
   "outputs": [
    {
     "data": {
      "text/plain": [
       "array([[0., 0., 0.],\n",
       "       [0., 1., 2.],\n",
       "       [0., 2., 4.]])"
      ]
     },
     "execution_count": 23,
     "metadata": {},
     "output_type": "execute_result"
    }
   ],
   "source": [
    "np.fromfunction(lambda i,j: i*j , (3,3))"
   ]
  },
  {
   "cell_type": "code",
   "execution_count": 24,
   "id": "13948e36-5bbe-4cf9-b09a-544481124466",
   "metadata": {},
   "outputs": [
    {
     "data": {
      "text/plain": [
       "array([ 0,  1,  4,  9, 16])"
      ]
     },
     "execution_count": 24,
     "metadata": {},
     "output_type": "execute_result"
    }
   ],
   "source": [
    "iterable = (i*i for i in range(5))\n",
    "np.fromiter(iterable, int)"
   ]
  },
  {
   "cell_type": "code",
   "execution_count": 25,
   "id": "5dc0ad05-cc61-49ab-aadd-46905fce8c38",
   "metadata": {},
   "outputs": [
    {
     "data": {
      "text/plain": [
       "array([1545,  555, 6452,    1,   22,   35])"
      ]
     },
     "execution_count": 25,
     "metadata": {},
     "output_type": "execute_result"
    }
   ],
   "source": [
    "np.fromstring('1545 555 6452 1 22 35', sep = ' ', dtype = int)"
   ]
  },
  {
   "cell_type": "code",
   "execution_count": 26,
   "id": "87c80805-5b38-416d-a3ad-3232e59c22ee",
   "metadata": {},
   "outputs": [
    {
     "data": {
      "text/plain": [
       "array([3, 4, 5, 6])"
      ]
     },
     "execution_count": 26,
     "metadata": {},
     "output_type": "execute_result"
    }
   ],
   "source": [
    "np.fromstring('3,4,5,6', sep = ',', dtype = int)"
   ]
  },
  {
   "cell_type": "markdown",
   "id": "26c2575d-0277-4e84-b79e-94b9091b1ca8",
   "metadata": {},
   "source": [
    "## Numpy Data Types"
   ]
  },
  {
   "cell_type": "code",
   "execution_count": 27,
   "id": "6436a469-6af2-43a9-bb48-dd4523ad9d37",
   "metadata": {},
   "outputs": [],
   "source": [
    "l = [1,2,3,4,45,5]\n",
    "ar = np.array(l)"
   ]
  },
  {
   "cell_type": "code",
   "execution_count": 28,
   "id": "a2e6a60a-877e-4e2d-a080-83c5a92ea630",
   "metadata": {},
   "outputs": [
    {
     "data": {
      "text/plain": [
       "array([ 1,  2,  3,  4, 45,  5])"
      ]
     },
     "execution_count": 28,
     "metadata": {},
     "output_type": "execute_result"
    }
   ],
   "source": [
    "ar"
   ]
  },
  {
   "cell_type": "code",
   "execution_count": 29,
   "id": "fd3ebb79-f6bc-4cba-8ea4-f9da765e641d",
   "metadata": {},
   "outputs": [
    {
     "data": {
      "text/plain": [
       "1"
      ]
     },
     "execution_count": 29,
     "metadata": {},
     "output_type": "execute_result"
    }
   ],
   "source": [
    "np.ndim(ar)    # Tells the dimension of the array."
   ]
  },
  {
   "cell_type": "code",
   "execution_count": 30,
   "id": "4fe19ff8-48c4-4ca9-8dfe-99a42d7f21d4",
   "metadata": {},
   "outputs": [
    {
     "data": {
      "text/plain": [
       "array([[ 1,  2,  3, 34,  4],\n",
       "       [ 2,  3,  4,  5,  5]])"
      ]
     },
     "execution_count": 30,
     "metadata": {},
     "output_type": "execute_result"
    }
   ],
   "source": [
    "ar2 = np.array([[1,2,3,34,4] , [2,3,4,5,5,]])\n",
    "ar2"
   ]
  },
  {
   "cell_type": "code",
   "execution_count": 31,
   "id": "dbfbea8d-392b-4dee-a7b3-fe37bd27835a",
   "metadata": {},
   "outputs": [
    {
     "data": {
      "text/plain": [
       "2"
      ]
     },
     "execution_count": 31,
     "metadata": {},
     "output_type": "execute_result"
    }
   ],
   "source": [
    "np.ndim(ar2)"
   ]
  },
  {
   "cell_type": "code",
   "execution_count": 32,
   "id": "47f4e266-7f2c-47e7-8281-cb0093090754",
   "metadata": {},
   "outputs": [
    {
     "data": {
      "text/plain": [
       "6"
      ]
     },
     "execution_count": 32,
     "metadata": {},
     "output_type": "execute_result"
    }
   ],
   "source": [
    "ar.size"
   ]
  },
  {
   "cell_type": "code",
   "execution_count": 33,
   "id": "177458d5-0803-470d-8406-05327ffc86e5",
   "metadata": {},
   "outputs": [
    {
     "data": {
      "text/plain": [
       "10"
      ]
     },
     "execution_count": 33,
     "metadata": {},
     "output_type": "execute_result"
    }
   ],
   "source": [
    "ar2.size"
   ]
  },
  {
   "cell_type": "code",
   "execution_count": 34,
   "id": "9b71f1ba-aee7-4446-b726-2732f6ac43c4",
   "metadata": {},
   "outputs": [
    {
     "data": {
      "text/plain": [
       "(6,)"
      ]
     },
     "execution_count": 34,
     "metadata": {},
     "output_type": "execute_result"
    }
   ],
   "source": [
    "ar.shape"
   ]
  },
  {
   "cell_type": "code",
   "execution_count": 35,
   "id": "9fbbd0f0-c50e-4b54-b2f6-23ea5da9f5b3",
   "metadata": {},
   "outputs": [
    {
     "data": {
      "text/plain": [
       "(2, 5)"
      ]
     },
     "execution_count": 35,
     "metadata": {},
     "output_type": "execute_result"
    }
   ],
   "source": [
    "ar2.shape"
   ]
  },
  {
   "cell_type": "code",
   "execution_count": 36,
   "id": "6e139319-355f-4d4c-b782-844f4782b90a",
   "metadata": {},
   "outputs": [],
   "source": [
    "ar3 = np.array([(1.2, 3,5,4,3), (1,2,3,4,3), (11,2,2,3,4)])"
   ]
  },
  {
   "cell_type": "code",
   "execution_count": 37,
   "id": "a93c7e1d-28bf-4be5-bf2b-8371ce5ebc6a",
   "metadata": {},
   "outputs": [
    {
     "data": {
      "text/plain": [
       "array([[ 1.2,  3. ,  5. ,  4. ,  3. ],\n",
       "       [ 1. ,  2. ,  3. ,  4. ,  3. ],\n",
       "       [11. ,  2. ,  2. ,  3. ,  4. ]])"
      ]
     },
     "execution_count": 37,
     "metadata": {},
     "output_type": "execute_result"
    }
   ],
   "source": [
    "ar3"
   ]
  },
  {
   "cell_type": "code",
   "execution_count": 38,
   "id": "c7344618-d521-407b-b4bb-11344c0b5157",
   "metadata": {},
   "outputs": [
    {
     "data": {
      "text/plain": [
       "dtype('int64')"
      ]
     },
     "execution_count": 38,
     "metadata": {},
     "output_type": "execute_result"
    }
   ],
   "source": [
    "ar2.dtype"
   ]
  },
  {
   "cell_type": "markdown",
   "id": "61da0572-4353-4eab-9400-18a40a990c39",
   "metadata": {},
   "source": [
    "- Numpy allows us to start a range from a decimal no. of fractional no."
   ]
  },
  {
   "cell_type": "code",
   "execution_count": 39,
   "id": "365f3191-af01-4d75-8981-fc637736e95e",
   "metadata": {},
   "outputs": [
    {
     "data": {
      "text/plain": [
       "[2.4,\n",
       " 2.6,\n",
       " 2.8000000000000003,\n",
       " 3.0000000000000004,\n",
       " 3.2000000000000006,\n",
       " 3.400000000000001,\n",
       " 3.600000000000001,\n",
       " 3.800000000000001,\n",
       " 4.000000000000002,\n",
       " 4.200000000000001,\n",
       " 4.400000000000002,\n",
       " 4.600000000000001,\n",
       " 4.8000000000000025,\n",
       " 5.000000000000002,\n",
       " 5.200000000000003,\n",
       " 5.400000000000002,\n",
       " 5.600000000000003,\n",
       " 5.8000000000000025,\n",
       " 6.0000000000000036,\n",
       " 6.200000000000003,\n",
       " 6.400000000000004,\n",
       " 6.600000000000003,\n",
       " 6.800000000000004,\n",
       " 7.0000000000000036,\n",
       " 7.200000000000005,\n",
       " 7.400000000000004,\n",
       " 7.600000000000005,\n",
       " 7.800000000000004,\n",
       " 8.000000000000005,\n",
       " 8.200000000000005,\n",
       " 8.400000000000006,\n",
       " 8.600000000000005]"
      ]
     },
     "execution_count": 39,
     "metadata": {},
     "output_type": "execute_result"
    }
   ],
   "source": [
    "list(np.arange(2.4, 8.8, .2))"
   ]
  },
  {
   "cell_type": "code",
   "execution_count": 40,
   "id": "996f49dd-bac9-41b0-bbb9-d9b93f5bf0ab",
   "metadata": {},
   "outputs": [
    {
     "data": {
      "text/plain": [
       "array([  1,  12,  23,  34,  45,  56,  67,  78,  89, 100])"
      ]
     },
     "execution_count": 40,
     "metadata": {},
     "output_type": "execute_result"
    }
   ],
   "source": [
    "np.linspace(1,100,10, dtype = int)    # It will produce 10 data between 1 to 100"
   ]
  },
  {
   "cell_type": "code",
   "execution_count": 41,
   "id": "63cd2a54-16a3-4a39-8167-d25aa7b3352b",
   "metadata": {},
   "outputs": [
    {
     "data": {
      "text/plain": [
       "array([0, 0, 0, 0, 0])"
      ]
     },
     "execution_count": 41,
     "metadata": {},
     "output_type": "execute_result"
    }
   ],
   "source": [
    "np.zeros(5, dtype = int)"
   ]
  },
  {
   "cell_type": "code",
   "execution_count": 42,
   "id": "412b7165-13a6-4b36-b237-cc253f3dadbb",
   "metadata": {},
   "outputs": [
    {
     "data": {
      "text/plain": [
       "array([[0, 0, 0, 0],\n",
       "       [0, 0, 0, 0],\n",
       "       [0, 0, 0, 0]])"
      ]
     },
     "execution_count": 42,
     "metadata": {},
     "output_type": "execute_result"
    }
   ],
   "source": [
    "np.zeros((3,4), dtype = int)"
   ]
  },
  {
   "cell_type": "code",
   "execution_count": 43,
   "id": "69cdfd24-c72c-4537-8338-00707a128305",
   "metadata": {},
   "outputs": [
    {
     "data": {
      "text/plain": [
       "array([[[0, 0, 0],\n",
       "        [0, 0, 0],\n",
       "        [0, 0, 0],\n",
       "        [0, 0, 0],\n",
       "        [0, 0, 0]],\n",
       "\n",
       "       [[0, 0, 0],\n",
       "        [0, 0, 0],\n",
       "        [0, 0, 0],\n",
       "        [0, 0, 0],\n",
       "        [0, 0, 0]],\n",
       "\n",
       "       [[0, 0, 0],\n",
       "        [0, 0, 0],\n",
       "        [0, 0, 0],\n",
       "        [0, 0, 0],\n",
       "        [0, 0, 0]],\n",
       "\n",
       "       [[0, 0, 0],\n",
       "        [0, 0, 0],\n",
       "        [0, 0, 0],\n",
       "        [0, 0, 0],\n",
       "        [0, 0, 0]]])"
      ]
     },
     "execution_count": 43,
     "metadata": {},
     "output_type": "execute_result"
    }
   ],
   "source": [
    "np.zeros((4,5,3), dtype = int)"
   ]
  },
  {
   "cell_type": "code",
   "execution_count": 44,
   "id": "a46f160d-305d-46e4-8abb-942b0cb466b5",
   "metadata": {},
   "outputs": [
    {
     "data": {
      "text/plain": [
       "array([1, 1, 1, 1])"
      ]
     },
     "execution_count": 44,
     "metadata": {},
     "output_type": "execute_result"
    }
   ],
   "source": [
    "np.ones(4, dtype = int)"
   ]
  },
  {
   "cell_type": "code",
   "execution_count": 45,
   "id": "308380e4-e8f8-4899-a0f2-e7f1f3aed615",
   "metadata": {},
   "outputs": [],
   "source": [
    "on = np.ones((4,3), dtype = int)"
   ]
  },
  {
   "cell_type": "code",
   "execution_count": 46,
   "id": "30b94c36-e70d-4977-8ec9-167edacbf8ba",
   "metadata": {},
   "outputs": [
    {
     "data": {
      "text/plain": [
       "array([[1, 1, 1],\n",
       "       [1, 1, 1],\n",
       "       [1, 1, 1],\n",
       "       [1, 1, 1]])"
      ]
     },
     "execution_count": 46,
     "metadata": {},
     "output_type": "execute_result"
    }
   ],
   "source": [
    "on"
   ]
  },
  {
   "cell_type": "code",
   "execution_count": 47,
   "id": "93941cce-e405-4a53-8c6e-520367fd3702",
   "metadata": {},
   "outputs": [
    {
     "data": {
      "text/plain": [
       "array([[6, 6, 6],\n",
       "       [6, 6, 6],\n",
       "       [6, 6, 6],\n",
       "       [6, 6, 6]])"
      ]
     },
     "execution_count": 47,
     "metadata": {},
     "output_type": "execute_result"
    }
   ],
   "source": [
    "on + 5"
   ]
  },
  {
   "cell_type": "code",
   "execution_count": 48,
   "id": "7db82177-842c-44c2-ad02-c459a3b95eb4",
   "metadata": {},
   "outputs": [
    {
     "data": {
      "text/plain": [
       "array([[4, 4, 4],\n",
       "       [4, 4, 4],\n",
       "       [4, 4, 4],\n",
       "       [4, 4, 4]])"
      ]
     },
     "execution_count": 48,
     "metadata": {},
     "output_type": "execute_result"
    }
   ],
   "source": [
    "on * 4 "
   ]
  },
  {
   "cell_type": "code",
   "execution_count": 49,
   "id": "3a4b9b2e-7721-4b0e-82ee-54c94a92e39b",
   "metadata": {},
   "outputs": [
    {
     "data": {
      "text/plain": [
       "array([[4.67193825e-310, 0.00000000e+000, 1.01855798e-312,\n",
       "        9.54898106e-313],\n",
       "       [1.06099790e-312, 1.01855798e-312, 1.23075756e-312,\n",
       "        1.16709769e-312],\n",
       "       [1.10343781e-312, 9.76118064e-313, 1.18831764e-312,\n",
       "        1.90979621e-312]])"
      ]
     },
     "execution_count": 49,
     "metadata": {},
     "output_type": "execute_result"
    }
   ],
   "source": [
    "np.empty((3,4))"
   ]
  },
  {
   "cell_type": "markdown",
   "id": "c6e571e3-a2f0-40ec-a6cb-158a96cd60ea",
   "metadata": {},
   "source": [
    "- Identity matrix"
   ]
  },
  {
   "cell_type": "code",
   "execution_count": 50,
   "id": "3750dcb0-623f-44e8-a79d-a341694d1186",
   "metadata": {},
   "outputs": [
    {
     "data": {
      "text/plain": [
       "array([[1, 0, 0, 0, 0],\n",
       "       [0, 1, 0, 0, 0],\n",
       "       [0, 0, 1, 0, 0],\n",
       "       [0, 0, 0, 1, 0],\n",
       "       [0, 0, 0, 0, 1]])"
      ]
     },
     "execution_count": 50,
     "metadata": {},
     "output_type": "execute_result"
    }
   ],
   "source": [
    "np.eye(5, dtype = int)"
   ]
  },
  {
   "cell_type": "markdown",
   "id": "a2a21735-b4ef-4a80-8665-ec9c6985130c",
   "metadata": {},
   "source": [
    "#### np.logspace()"
   ]
  },
  {
   "cell_type": "code",
   "execution_count": 51,
   "id": "df7d596b-c38c-4b09-848d-900b0978e780",
   "metadata": {},
   "outputs": [
    {
     "data": {
      "text/plain": [
       "array([   2,    4,    8,   16,   32,   64,  128,  256,  512, 1024])"
      ]
     },
     "execution_count": 51,
     "metadata": {},
     "output_type": "execute_result"
    }
   ],
   "source": [
    "np.logspace(1,10, 10, dtype = int, base = 2)  # Produces 10 data between 1 to 10 and return its log base 10 by default."
   ]
  },
  {
   "cell_type": "markdown",
   "id": "82542a50-2ce8-42b8-a1ed-09aefccc7aab",
   "metadata": {},
   "source": [
    "#### np.random()"
   ]
  },
  {
   "cell_type": "code",
   "execution_count": 52,
   "id": "aed10f1d-4881-4012-8755-9237b5a3f794",
   "metadata": {},
   "outputs": [],
   "source": [
    "arr = np.random.randn(3,4)   # Does Standard normal distribution"
   ]
  },
  {
   "cell_type": "code",
   "execution_count": 53,
   "id": "f3e2babd-af72-42e9-b266-aee931d3d395",
   "metadata": {},
   "outputs": [
    {
     "data": {
      "text/html": [
       "<div>\n",
       "<style scoped>\n",
       "    .dataframe tbody tr th:only-of-type {\n",
       "        vertical-align: middle;\n",
       "    }\n",
       "\n",
       "    .dataframe tbody tr th {\n",
       "        vertical-align: top;\n",
       "    }\n",
       "\n",
       "    .dataframe thead th {\n",
       "        text-align: right;\n",
       "    }\n",
       "</style>\n",
       "<table border=\"1\" class=\"dataframe\">\n",
       "  <thead>\n",
       "    <tr style=\"text-align: right;\">\n",
       "      <th></th>\n",
       "      <th>0</th>\n",
       "      <th>1</th>\n",
       "      <th>2</th>\n",
       "      <th>3</th>\n",
       "    </tr>\n",
       "  </thead>\n",
       "  <tbody>\n",
       "    <tr>\n",
       "      <th>0</th>\n",
       "      <td>0.290528</td>\n",
       "      <td>-2.384337</td>\n",
       "      <td>-0.178596</td>\n",
       "      <td>-0.829685</td>\n",
       "    </tr>\n",
       "    <tr>\n",
       "      <th>1</th>\n",
       "      <td>-1.309028</td>\n",
       "      <td>0.792889</td>\n",
       "      <td>-1.968691</td>\n",
       "      <td>-0.142543</td>\n",
       "    </tr>\n",
       "    <tr>\n",
       "      <th>2</th>\n",
       "      <td>1.461225</td>\n",
       "      <td>0.487133</td>\n",
       "      <td>-0.079217</td>\n",
       "      <td>1.002527</td>\n",
       "    </tr>\n",
       "  </tbody>\n",
       "</table>\n",
       "</div>"
      ],
      "text/plain": [
       "          0         1         2         3\n",
       "0  0.290528 -2.384337 -0.178596 -0.829685\n",
       "1 -1.309028  0.792889 -1.968691 -0.142543\n",
       "2  1.461225  0.487133 -0.079217  1.002527"
      ]
     },
     "execution_count": 53,
     "metadata": {},
     "output_type": "execute_result"
    }
   ],
   "source": [
    "import pandas as pd\n",
    "pd.DataFrame(arr)"
   ]
  },
  {
   "cell_type": "code",
   "execution_count": 54,
   "id": "58d87382-6de4-4905-94a0-7fa8933d0c1e",
   "metadata": {},
   "outputs": [],
   "source": [
    "arr2 = np.random.rand(3,4)"
   ]
  },
  {
   "cell_type": "code",
   "execution_count": 55,
   "id": "a56045b0-cc23-4521-9e8c-ca0f2243f66f",
   "metadata": {},
   "outputs": [
    {
     "data": {
      "text/html": [
       "<div>\n",
       "<style scoped>\n",
       "    .dataframe tbody tr th:only-of-type {\n",
       "        vertical-align: middle;\n",
       "    }\n",
       "\n",
       "    .dataframe tbody tr th {\n",
       "        vertical-align: top;\n",
       "    }\n",
       "\n",
       "    .dataframe thead th {\n",
       "        text-align: right;\n",
       "    }\n",
       "</style>\n",
       "<table border=\"1\" class=\"dataframe\">\n",
       "  <thead>\n",
       "    <tr style=\"text-align: right;\">\n",
       "      <th></th>\n",
       "      <th>0</th>\n",
       "      <th>1</th>\n",
       "      <th>2</th>\n",
       "      <th>3</th>\n",
       "    </tr>\n",
       "  </thead>\n",
       "  <tbody>\n",
       "    <tr>\n",
       "      <th>0</th>\n",
       "      <td>0.861438</td>\n",
       "      <td>0.370277</td>\n",
       "      <td>0.923196</td>\n",
       "      <td>0.274287</td>\n",
       "    </tr>\n",
       "    <tr>\n",
       "      <th>1</th>\n",
       "      <td>0.898842</td>\n",
       "      <td>0.023212</td>\n",
       "      <td>0.905594</td>\n",
       "      <td>0.265494</td>\n",
       "    </tr>\n",
       "    <tr>\n",
       "      <th>2</th>\n",
       "      <td>0.580831</td>\n",
       "      <td>0.452094</td>\n",
       "      <td>0.249985</td>\n",
       "      <td>0.354572</td>\n",
       "    </tr>\n",
       "  </tbody>\n",
       "</table>\n",
       "</div>"
      ],
      "text/plain": [
       "          0         1         2         3\n",
       "0  0.861438  0.370277  0.923196  0.274287\n",
       "1  0.898842  0.023212  0.905594  0.265494\n",
       "2  0.580831  0.452094  0.249985  0.354572"
      ]
     },
     "execution_count": 55,
     "metadata": {},
     "output_type": "execute_result"
    }
   ],
   "source": [
    "pd.DataFrame(arr2)"
   ]
  },
  {
   "cell_type": "code",
   "execution_count": 56,
   "id": "fe59300c-83da-4ac2-85b4-a0bf8ac8011d",
   "metadata": {},
   "outputs": [],
   "source": [
    "arr3 = np.random.randint(42, 100, (4,5))"
   ]
  },
  {
   "cell_type": "code",
   "execution_count": 57,
   "id": "7c32a4d2-81c3-4a5a-8842-4932d55960dd",
   "metadata": {},
   "outputs": [
    {
     "data": {
      "text/html": [
       "<div>\n",
       "<style scoped>\n",
       "    .dataframe tbody tr th:only-of-type {\n",
       "        vertical-align: middle;\n",
       "    }\n",
       "\n",
       "    .dataframe tbody tr th {\n",
       "        vertical-align: top;\n",
       "    }\n",
       "\n",
       "    .dataframe thead th {\n",
       "        text-align: right;\n",
       "    }\n",
       "</style>\n",
       "<table border=\"1\" class=\"dataframe\">\n",
       "  <thead>\n",
       "    <tr style=\"text-align: right;\">\n",
       "      <th></th>\n",
       "      <th>0</th>\n",
       "      <th>1</th>\n",
       "      <th>2</th>\n",
       "      <th>3</th>\n",
       "      <th>4</th>\n",
       "    </tr>\n",
       "  </thead>\n",
       "  <tbody>\n",
       "    <tr>\n",
       "      <th>0</th>\n",
       "      <td>96</td>\n",
       "      <td>55</td>\n",
       "      <td>89</td>\n",
       "      <td>93</td>\n",
       "      <td>82</td>\n",
       "    </tr>\n",
       "    <tr>\n",
       "      <th>1</th>\n",
       "      <td>72</td>\n",
       "      <td>84</td>\n",
       "      <td>46</td>\n",
       "      <td>73</td>\n",
       "      <td>74</td>\n",
       "    </tr>\n",
       "    <tr>\n",
       "      <th>2</th>\n",
       "      <td>53</td>\n",
       "      <td>62</td>\n",
       "      <td>47</td>\n",
       "      <td>93</td>\n",
       "      <td>86</td>\n",
       "    </tr>\n",
       "    <tr>\n",
       "      <th>3</th>\n",
       "      <td>93</td>\n",
       "      <td>61</td>\n",
       "      <td>86</td>\n",
       "      <td>67</td>\n",
       "      <td>60</td>\n",
       "    </tr>\n",
       "  </tbody>\n",
       "</table>\n",
       "</div>"
      ],
      "text/plain": [
       "    0   1   2   3   4\n",
       "0  96  55  89  93  82\n",
       "1  72  84  46  73  74\n",
       "2  53  62  47  93  86\n",
       "3  93  61  86  67  60"
      ]
     },
     "execution_count": 57,
     "metadata": {},
     "output_type": "execute_result"
    }
   ],
   "source": [
    "pd.DataFrame(arr3)"
   ]
  },
  {
   "cell_type": "markdown",
   "id": "8319b926-d94f-4dff-b199-e72fe3e73d0c",
   "metadata": {},
   "source": [
    "#### reshape()"
   ]
  },
  {
   "cell_type": "code",
   "execution_count": 58,
   "id": "b9e94b89-267a-4fa9-89f2-fb6ebccf60b3",
   "metadata": {},
   "outputs": [
    {
     "data": {
      "text/plain": [
       "array([[96, 55, 89, 93, 82, 72, 84, 46, 73, 74],\n",
       "       [53, 62, 47, 93, 86, 93, 61, 86, 67, 60]])"
      ]
     },
     "execution_count": 58,
     "metadata": {},
     "output_type": "execute_result"
    }
   ],
   "source": [
    "arr3.reshape(2,10)"
   ]
  },
  {
   "cell_type": "code",
   "execution_count": 59,
   "id": "49b3b5d5-bab5-417d-b819-8a2412f4e651",
   "metadata": {},
   "outputs": [
    {
     "data": {
      "text/plain": [
       "array([[96, 55, 89, 93, 82, 72, 84, 46, 73, 74],\n",
       "       [53, 62, 47, 93, 86, 93, 61, 86, 67, 60]])"
      ]
     },
     "execution_count": 59,
     "metadata": {},
     "output_type": "execute_result"
    }
   ],
   "source": [
    "arr3.reshape(2,-1)"
   ]
  },
  {
   "cell_type": "code",
   "execution_count": 60,
   "id": "d63bf170-2d16-43b2-ba86-f17805ee20a1",
   "metadata": {},
   "outputs": [
    {
     "data": {
      "text/plain": [
       "array([[ 1.2,  3. ,  5. ,  4. ,  3. ],\n",
       "       [ 1. ,  2. ,  3. ,  4. ,  3. ],\n",
       "       [11. ,  2. ,  2. ,  3. ,  4. ]])"
      ]
     },
     "execution_count": 60,
     "metadata": {},
     "output_type": "execute_result"
    }
   ],
   "source": [
    "ar3"
   ]
  },
  {
   "cell_type": "code",
   "execution_count": 61,
   "id": "be1ae5fc-89f7-4e26-bdf2-3bce87dd1df0",
   "metadata": {},
   "outputs": [
    {
     "data": {
      "text/plain": [
       "4.0"
      ]
     },
     "execution_count": 61,
     "metadata": {},
     "output_type": "execute_result"
    }
   ],
   "source": [
    "ar3[1][3]"
   ]
  },
  {
   "cell_type": "code",
   "execution_count": 62,
   "id": "a3130e8d-f025-4047-b5f3-ff00768fcfd8",
   "metadata": {},
   "outputs": [
    {
     "data": {
      "text/plain": [
       "array([2.])"
      ]
     },
     "execution_count": 62,
     "metadata": {},
     "output_type": "execute_result"
    }
   ],
   "source": [
    "ar3[2:5,1]"
   ]
  },
  {
   "cell_type": "code",
   "execution_count": 64,
   "id": "d9ade159-84e5-4651-911b-9dfff85dc5eb",
   "metadata": {},
   "outputs": [],
   "source": [
    "arr4 = np.random.randint(1,100,(5,5))"
   ]
  },
  {
   "cell_type": "code",
   "execution_count": 67,
   "id": "19d83072-d158-41dc-99cc-988c127cfcda",
   "metadata": {},
   "outputs": [
    {
     "data": {
      "text/plain": [
       "array([85, 87, 68, 52, 90, 93, 54, 75, 84, 73, 77, 78, 85, 75])"
      ]
     },
     "execution_count": 67,
     "metadata": {},
     "output_type": "execute_result"
    }
   ],
   "source": [
    "arr4[arr4>50]"
   ]
  },
  {
   "cell_type": "code",
   "execution_count": 69,
   "id": "16c01f24-6e72-45bd-bc0a-ae218e055b24",
   "metadata": {},
   "outputs": [
    {
     "data": {
      "text/plain": [
       "array([[85, 87, 42,  2, 50],\n",
       "       [15, 68, 12, 52, 90],\n",
       "       [47,  3, 93, 54, 75],\n",
       "       [84, 73, 77, 78, 40],\n",
       "       [27, 23, 85, 15, 75]])"
      ]
     },
     "execution_count": 69,
     "metadata": {},
     "output_type": "execute_result"
    }
   ],
   "source": [
    "arr4"
   ]
  },
  {
   "cell_type": "code",
   "execution_count": 68,
   "id": "ab52a946-22dd-4c66-8389-14c272af4953",
   "metadata": {},
   "outputs": [
    {
     "data": {
      "text/plain": [
       "array([[ 3, 93],\n",
       "       [73, 77]])"
      ]
     },
     "execution_count": 68,
     "metadata": {},
     "output_type": "execute_result"
    }
   ],
   "source": [
    "arr4[2:4,[1,2]]"
   ]
  },
  {
   "cell_type": "markdown",
   "id": "7ef03514-6378-4c1b-a7a4-f7f83f915f11",
   "metadata": {},
   "source": [
    "### Mathematical Operations over arrays."
   ]
  },
  {
   "cell_type": "code",
   "execution_count": 76,
   "id": "0f7e4c24-e982-485b-b7fc-ee06450f885b",
   "metadata": {},
   "outputs": [],
   "source": [
    "a1 = np.random.randint(1,3,(3,3))\n",
    "a2 = np.random.randint(1,3,(3,3))"
   ]
  },
  {
   "cell_type": "code",
   "execution_count": 77,
   "id": "d43f40df-0c28-4145-aab2-05425fde8c35",
   "metadata": {},
   "outputs": [
    {
     "data": {
      "text/plain": [
       "array([[1, 2, 2],\n",
       "       [2, 1, 1],\n",
       "       [2, 1, 1]])"
      ]
     },
     "execution_count": 77,
     "metadata": {},
     "output_type": "execute_result"
    }
   ],
   "source": [
    "a1"
   ]
  },
  {
   "cell_type": "code",
   "execution_count": 80,
   "id": "df2e2758-ecdc-4517-a819-82162e5c0a7e",
   "metadata": {},
   "outputs": [
    {
     "data": {
      "text/plain": [
       "array([[1, 2, 1],\n",
       "       [1, 1, 1],\n",
       "       [2, 1, 1]])"
      ]
     },
     "execution_count": 80,
     "metadata": {},
     "output_type": "execute_result"
    }
   ],
   "source": [
    "a2"
   ]
  },
  {
   "cell_type": "code",
   "execution_count": 81,
   "id": "9967ca87-78d6-4c29-9351-32f3889c8fa8",
   "metadata": {},
   "outputs": [
    {
     "data": {
      "text/plain": [
       "array([[2, 4, 3],\n",
       "       [3, 2, 2],\n",
       "       [4, 2, 2]])"
      ]
     },
     "execution_count": 81,
     "metadata": {},
     "output_type": "execute_result"
    }
   ],
   "source": [
    "a1+a2"
   ]
  },
  {
   "cell_type": "code",
   "execution_count": 82,
   "id": "66346e0f-efcd-4aa6-8ba3-c33417b5823f",
   "metadata": {},
   "outputs": [
    {
     "data": {
      "text/plain": [
       "array([[0, 0, 1],\n",
       "       [1, 0, 0],\n",
       "       [0, 0, 0]])"
      ]
     },
     "execution_count": 82,
     "metadata": {},
     "output_type": "execute_result"
    }
   ],
   "source": [
    "a1-a2"
   ]
  },
  {
   "cell_type": "code",
   "execution_count": 83,
   "id": "805b137a-2211-4163-81a7-2fc93b9e412d",
   "metadata": {},
   "outputs": [
    {
     "data": {
      "text/plain": [
       "array([[1., 1., 2.],\n",
       "       [2., 1., 1.],\n",
       "       [1., 1., 1.]])"
      ]
     },
     "execution_count": 83,
     "metadata": {},
     "output_type": "execute_result"
    }
   ],
   "source": [
    "a1/a2"
   ]
  },
  {
   "cell_type": "code",
   "execution_count": 85,
   "id": "35fe6848-4465-4ac4-beb7-be0ff3769e25",
   "metadata": {},
   "outputs": [
    {
     "data": {
      "text/plain": [
       "array([[1, 4, 2],\n",
       "       [2, 1, 1],\n",
       "       [4, 1, 1]])"
      ]
     },
     "execution_count": 85,
     "metadata": {},
     "output_type": "execute_result"
    }
   ],
   "source": [
    "a1*a2  # Not a matrix multiplication."
   ]
  },
  {
   "cell_type": "code",
   "execution_count": 87,
   "id": "b32bf066-c268-4e31-8b5d-e86ab38c5c9d",
   "metadata": {},
   "outputs": [
    {
     "data": {
      "text/plain": [
       "array([[7, 6, 5],\n",
       "       [5, 6, 4],\n",
       "       [5, 6, 4]])"
      ]
     },
     "execution_count": 87,
     "metadata": {},
     "output_type": "execute_result"
    }
   ],
   "source": [
    "a1@a2    # @ used for matrix multiplication."
   ]
  },
  {
   "cell_type": "code",
   "execution_count": 88,
   "id": "2b0e4fc5-c7f1-4b8a-9e11-80b9a60f131a",
   "metadata": {},
   "outputs": [
    {
     "name": "stderr",
     "output_type": "stream",
     "text": [
      "/tmp/ipykernel_144/1504525615.py:1: RuntimeWarning: divide by zero encountered in divide\n",
      "  a1/0\n"
     ]
    },
    {
     "data": {
      "text/plain": [
       "array([[inf, inf, inf],\n",
       "       [inf, inf, inf],\n",
       "       [inf, inf, inf]])"
      ]
     },
     "execution_count": 88,
     "metadata": {},
     "output_type": "execute_result"
    }
   ],
   "source": [
    "a1/0"
   ]
  },
  {
   "cell_type": "code",
   "execution_count": 89,
   "id": "810d902d-f4a4-408e-97b3-789ace98bcf0",
   "metadata": {},
   "outputs": [
    {
     "data": {
      "text/plain": [
       "array([[101, 102, 102],\n",
       "       [102, 101, 101],\n",
       "       [102, 101, 101]])"
      ]
     },
     "execution_count": 89,
     "metadata": {},
     "output_type": "execute_result"
    }
   ],
   "source": [
    "a1+100"
   ]
  },
  {
   "cell_type": "code",
   "execution_count": 90,
   "id": "ff5e5a9c-f590-4b8d-9519-7d992b744335",
   "metadata": {},
   "outputs": [
    {
     "data": {
      "text/plain": [
       "array([[1, 4, 4],\n",
       "       [4, 1, 1],\n",
       "       [4, 1, 1]])"
      ]
     },
     "execution_count": 90,
     "metadata": {},
     "output_type": "execute_result"
    }
   ],
   "source": [
    "a1**2"
   ]
  },
  {
   "cell_type": "markdown",
   "id": "4f5456ba-decd-4bde-8d29-cac20485aa92",
   "metadata": {},
   "source": [
    "### Broadcasting "
   ]
  },
  {
   "cell_type": "code",
   "execution_count": 92,
   "id": "c7c887a6-da42-41ae-a695-40cda778f442",
   "metadata": {},
   "outputs": [],
   "source": [
    "a3 = np.zeros([4,4])"
   ]
  },
  {
   "cell_type": "code",
   "execution_count": 95,
   "id": "9baf93fc-235c-4b9c-8536-44e91706d42c",
   "metadata": {},
   "outputs": [
    {
     "data": {
      "text/plain": [
       "array([[0., 0., 0., 0.],\n",
       "       [0., 0., 0., 0.],\n",
       "       [0., 0., 0., 0.],\n",
       "       [0., 0., 0., 0.]])"
      ]
     },
     "execution_count": 95,
     "metadata": {},
     "output_type": "execute_result"
    }
   ],
   "source": [
    "a3"
   ]
  },
  {
   "cell_type": "code",
   "execution_count": 93,
   "id": "c1130b8b-24ae-4d22-9bc4-11368f910606",
   "metadata": {},
   "outputs": [],
   "source": [
    "row = np.array([1,2,3,4])"
   ]
  },
  {
   "cell_type": "code",
   "execution_count": 94,
   "id": "9cc4b901-4e37-4591-ae71-024efccc6d4b",
   "metadata": {},
   "outputs": [
    {
     "data": {
      "text/plain": [
       "array([[1., 2., 3., 4.],\n",
       "       [1., 2., 3., 4.],\n",
       "       [1., 2., 3., 4.],\n",
       "       [1., 2., 3., 4.]])"
      ]
     },
     "execution_count": 94,
     "metadata": {},
     "output_type": "execute_result"
    }
   ],
   "source": [
    "a3 + row"
   ]
  },
  {
   "cell_type": "code",
   "execution_count": 97,
   "id": "d6cbe62d-bacd-4a40-9a6d-c316514ad21d",
   "metadata": {},
   "outputs": [],
   "source": [
    "col = np.array([[1,2,3,4]])"
   ]
  },
  {
   "cell_type": "code",
   "execution_count": 98,
   "id": "772f29e1-d1c8-4ceb-9b3c-5c809e7bb222",
   "metadata": {},
   "outputs": [
    {
     "data": {
      "text/plain": [
       "array([[1],\n",
       "       [2],\n",
       "       [3],\n",
       "       [4]])"
      ]
     },
     "execution_count": 98,
     "metadata": {},
     "output_type": "execute_result"
    }
   ],
   "source": [
    "col.T"
   ]
  },
  {
   "cell_type": "code",
   "execution_count": 101,
   "id": "3c42979f-b017-466d-a11e-98e3db2a05b0",
   "metadata": {},
   "outputs": [
    {
     "data": {
      "text/plain": [
       "array([[1., 1., 1., 1.],\n",
       "       [2., 2., 2., 2.],\n",
       "       [3., 3., 3., 3.],\n",
       "       [4., 4., 4., 4.]])"
      ]
     },
     "execution_count": 101,
     "metadata": {},
     "output_type": "execute_result"
    }
   ],
   "source": [
    "col.T + a3"
   ]
  },
  {
   "cell_type": "code",
   "execution_count": 103,
   "id": "c6480c8c-91d1-44a1-b83a-e26c26a1d2b3",
   "metadata": {},
   "outputs": [],
   "source": [
    "a4 = np.random.randint(1,4, (3,4))"
   ]
  },
  {
   "cell_type": "code",
   "execution_count": 104,
   "id": "02e889ca-cd1c-4a48-9515-7fdcae035c12",
   "metadata": {},
   "outputs": [
    {
     "data": {
      "text/plain": [
       "array([[1.        , 1.        , 1.73205081, 1.41421356],\n",
       "       [1.41421356, 1.        , 1.73205081, 1.41421356],\n",
       "       [1.73205081, 1.41421356, 1.41421356, 1.        ]])"
      ]
     },
     "execution_count": 104,
     "metadata": {},
     "output_type": "execute_result"
    }
   ],
   "source": [
    "np.sqrt(a4)"
   ]
  },
  {
   "cell_type": "code",
   "execution_count": 105,
   "id": "aac441d1-ee11-46c8-b381-79b66d7068cf",
   "metadata": {},
   "outputs": [
    {
     "data": {
      "text/plain": [
       "array([[ 2.71828183,  2.71828183, 20.08553692,  7.3890561 ],\n",
       "       [ 7.3890561 ,  2.71828183, 20.08553692,  7.3890561 ],\n",
       "       [20.08553692,  7.3890561 ,  7.3890561 ,  2.71828183]])"
      ]
     },
     "execution_count": 105,
     "metadata": {},
     "output_type": "execute_result"
    }
   ],
   "source": [
    "np.exp(a4)"
   ]
  },
  {
   "cell_type": "code",
   "execution_count": 106,
   "id": "88f603e4-7ba1-4c71-84d5-b18d1f47abe5",
   "metadata": {},
   "outputs": [
    {
     "data": {
      "text/plain": [
       "array([[0.        , 0.        , 0.47712125, 0.30103   ],\n",
       "       [0.30103   , 0.        , 0.47712125, 0.30103   ],\n",
       "       [0.47712125, 0.30103   , 0.30103   , 0.        ]])"
      ]
     },
     "execution_count": 106,
     "metadata": {},
     "output_type": "execute_result"
    }
   ],
   "source": [
    "np.log10(a4)"
   ]
  },
  {
   "cell_type": "markdown",
   "id": "bd3eb195-2f60-4d8b-84d6-e91a158bf426",
   "metadata": {},
   "source": [
    "# END"
   ]
  }
 ],
 "metadata": {
  "kernelspec": {
   "display_name": "Python 3 (ipykernel)",
   "language": "python",
   "name": "python3"
  },
  "language_info": {
   "codemirror_mode": {
    "name": "ipython",
    "version": 3
   },
   "file_extension": ".py",
   "mimetype": "text/x-python",
   "name": "python",
   "nbconvert_exporter": "python",
   "pygments_lexer": "ipython3",
   "version": "3.10.8"
  }
 },
 "nbformat": 4,
 "nbformat_minor": 5
}
