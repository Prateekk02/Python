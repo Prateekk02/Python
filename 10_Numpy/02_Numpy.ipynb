{
 "cells": [
  {
   "cell_type": "markdown",
   "id": "f9e0b0df-f677-46b5-bcc9-3f025a77cd8c",
   "metadata": {},
   "source": [
    "### Array Manipulation"
   ]
  },
  {
   "cell_type": "code",
   "execution_count": 1,
   "id": "a0e27f19-f14a-4c50-afea-58905866151b",
   "metadata": {},
   "outputs": [],
   "source": [
    "import numpy as np"
   ]
  },
  {
   "cell_type": "code",
   "execution_count": 12,
   "id": "8c4bc22a-62b9-4f6c-947e-f58a92cc9759",
   "metadata": {},
   "outputs": [],
   "source": [
    "arr = np.random.randint(1,10,(3,4))"
   ]
  },
  {
   "cell_type": "code",
   "execution_count": 13,
   "id": "6acf3037-2cee-485d-8f53-1e123c91c4d1",
   "metadata": {},
   "outputs": [
    {
     "data": {
      "text/plain": [
       "array([[6, 2, 8, 5],\n",
       "       [1, 1, 7, 6],\n",
       "       [3, 4, 6, 3]])"
      ]
     },
     "execution_count": 13,
     "metadata": {},
     "output_type": "execute_result"
    }
   ],
   "source": [
    "arr"
   ]
  },
  {
   "cell_type": "code",
   "execution_count": 14,
   "id": "14098705-c1c4-4ecf-b541-eaa8eb5c3087",
   "metadata": {},
   "outputs": [
    {
     "data": {
      "text/plain": [
       "array([[6, 2],\n",
       "       [8, 5],\n",
       "       [1, 1],\n",
       "       [7, 6],\n",
       "       [3, 4],\n",
       "       [6, 3]])"
      ]
     },
     "execution_count": 14,
     "metadata": {},
     "output_type": "execute_result"
    }
   ],
   "source": [
    "arr.reshape(6,2)"
   ]
  },
  {
   "cell_type": "code",
   "execution_count": 15,
   "id": "3ff6520e-5db9-428f-9b82-cb108d1d0030",
   "metadata": {},
   "outputs": [
    {
     "data": {
      "text/plain": [
       "array([[6, 2, 8, 5],\n",
       "       [1, 1, 7, 6],\n",
       "       [3, 4, 6, 3]])"
      ]
     },
     "execution_count": 15,
     "metadata": {},
     "output_type": "execute_result"
    }
   ],
   "source": [
    "arr"
   ]
  },
  {
   "cell_type": "code",
   "execution_count": 16,
   "id": "2d064895-6df6-4269-bd6a-9d5ef6f511b7",
   "metadata": {},
   "outputs": [
    {
     "data": {
      "text/plain": [
       "array([[6, 1, 3],\n",
       "       [2, 1, 4],\n",
       "       [8, 7, 6],\n",
       "       [5, 6, 3]])"
      ]
     },
     "execution_count": 16,
     "metadata": {},
     "output_type": "execute_result"
    }
   ],
   "source": [
    "arr.T"
   ]
  },
  {
   "cell_type": "code",
   "execution_count": 18,
   "id": "e6ac61dd-923b-45b4-beea-45e4ef0f4aca",
   "metadata": {},
   "outputs": [
    {
     "data": {
      "text/plain": [
       "array([6, 2, 8, 5, 1, 1, 7, 6, 3, 4, 6, 3])"
      ]
     },
     "execution_count": 18,
     "metadata": {},
     "output_type": "execute_result"
    }
   ],
   "source": [
    "arr.flatten()  # Covert two dimension array to one dimension."
   ]
  },
  {
   "cell_type": "code",
   "execution_count": null,
   "id": "0c7cf1ce-a3df-4bcd-b2d2-ff24b9068d34",
   "metadata": {},
   "outputs": [],
   "source": []
  }
 ],
 "metadata": {
  "kernelspec": {
   "display_name": "Python 3 (ipykernel)",
   "language": "python",
   "name": "python3"
  },
  "language_info": {
   "codemirror_mode": {
    "name": "ipython",
    "version": 3
   },
   "file_extension": ".py",
   "mimetype": "text/x-python",
   "name": "python",
   "nbconvert_exporter": "python",
   "pygments_lexer": "ipython3",
   "version": "3.10.8"
  }
 },
 "nbformat": 4,
 "nbformat_minor": 5
}
