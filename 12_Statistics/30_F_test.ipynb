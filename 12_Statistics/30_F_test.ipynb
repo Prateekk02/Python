{
 "cells": [
  {
   "cell_type": "markdown",
   "metadata": {},
   "source": [
    "# F test With Python"
   ]
  },
  {
   "cell_type": "code",
   "execution_count": null,
   "metadata": {},
   "outputs": [],
   "source": [
    "worker1 = [18, 19, 22, 25, 27, 28, 41, 45, 51, 55]\n",
    "worker2 = [14, 15, 15, 17, 18, 22, 25, 25, 27, 34]"
   ]
  }
 ],
 "metadata": {
  "language_info": {
   "name": "python"
  },
  "orig_nbformat": 4
 },
 "nbformat": 4,
 "nbformat_minor": 2
}
